{
 "cells": [
  {
   "cell_type": "markdown",
   "id": "c29aa093",
   "metadata": {},
   "source": [
    "# PDSCH end-to-end communication\n",
    "This notebook shows how an end-to-end communication through a 5G Physical Downlink Shared Channel (PDSCH) can be simulated in **NeoRadium** based on 3GPP NR standard. It demonstrate the following steps:\n",
    "\n",
    "- Creating LDPC encoder object and using it to perform transport block segmentation, LDPC encoding and rate matching based on 3GPP TS 38.212.\n",
    "- Creating a ``PDSCH`` object and using it to populate a transmitted resource grid based on the encoded transport blocks. During this process, the PDSCH also adds DMRS reference signals in the resource grid based on 3GPP TS 38.211 and TS 38.214.\n",
    "- Creating a CDL channel model as specified in 3GPP TR 38.901 using the ``CdlChannel`` class. This class and the resource gird created by the ``PDSCH``, are used to calculate a precoding matrix which is then used to precode the resource grid.\n",
    "- Converting the precoded resource grid to a time-domain (transmitted) waveform through OFDM modulation performed by the ``ofdmModulate`` method of the ``Grid`` class.\n",
    "- Applying the CDL channel to the transmitted waveform to obtain the received waveform.\n",
    "- Synchronizing the received waveform by calculating the timing offset using the CDL class object.\n",
    "- Applying OFDM demodulation to the synchronized received waveform to get a received resource grid.\n",
    "- Estimating the channel matrix using the DMRS reference signals.\n",
    "- Equalizing the received resource grid using Minimum mean-squared error (MMSE) equalization to cancel the effect of communication channel.\n",
    "- Using the ``getLLRsFromGrid`` function of ``PDSCH`` class to extract log-likelihood ratios from the received resource grid.\n",
    "- Recovering the rate and then LDPC-decoding the transport blocks from the log-likelihood ratios.\n",
    "- Comparing the received bitstream with the original values used at the beginning of the pipeline.\n",
    "\n",
    "![PDSCH-Pipeline](PDSCH-Pipeline.png)\n",
    "\n",
    "Let's get started by importing the **NewRadium** modules used in the notebook."
   ]
  },
  {
   "cell_type": "code",
   "execution_count": 1,
   "id": "2415601e",
   "metadata": {},
   "outputs": [],
   "source": [
    "import numpy as np\n",
    "import scipy.io\n",
    "import time\n",
    "\n",
    "from neoradium import Carrier, PDSCH, CdlChannel, AntennaPanel, LdpcEncoder, Grid\n",
    "from neoradium.utils import random\n"
   ]
  },
  {
   "cell_type": "markdown",
   "id": "e3afe2dd",
   "metadata": {},
   "source": [
    "### Carrier Configuration\n",
    "Here using the ``Carrier`` class we define a carrier with 30 KHz subcarrier spacing with 51 resource blocks. The print function prints information about the carrier. Please note that by default a single bandwidth part is defined which covers the whole carrier. Additional bandwidth parts can be added to the carrier if needed."
   ]
  },
  {
   "cell_type": "code",
   "execution_count": 2,
   "id": "3ec0371b",
   "metadata": {},
   "outputs": [
    {
     "name": "stdout",
     "output_type": "stream",
     "text": [
      "\n",
      "Carrier Properties:\n",
      "  startRb: 0\n",
      "  numRbs: 51\n",
      "  Cell Id: 1\n",
      "  Active Bandwidth Part: 0\n",
      "  Bandwidth Parts: 1\n",
      "  Bandwidth Part 0:\n",
      "    Resource Blocks: 51 RBs starting at 0 (612 subcarriers)\n",
      "    Subcarrier Spacing: 30 KHz\n",
      "    CP Type: normal\n",
      "    bandwidth: 18360000 Hz\n",
      "    symbolsPerSlot: 14\n",
      "    slotsPerSubFrame: 2\n",
      "    nFFT: 1024\n",
      "\n"
     ]
    }
   ],
   "source": [
    "carrier = Carrier(numRbs=51, spacing=30)  # 51*12*30000 = 18,360,000 for 20 MHz Bandwidth\n",
    "carrier.print()\n",
    "bwp = carrier.curBwp                      # The only bandwidth part in the carrier"
   ]
  },
  {
   "cell_type": "markdown",
   "id": "b9cb7eca",
   "metadata": {},
   "source": [
    "### PDSCH and DMRS Configuration\n",
    "Now let's use the ``PDSCH`` class to configure the PDSCH communication parameters. Here we choose \"Mapping Type A\" and \"QAM16\" modulation (by default). We also set the number of layers to 2 and disable interleaving by setting ``interleavingBundleSize`` to zero.\n",
    "\n",
    "We then set the DMRS configuration using the ``setDMRD`` method of the ``PDSCH`` class. Here we use DMRS ``configType`` set to 2 with 2 additional symbol time allocations (``additionalPos=2``). Although **NeoRadium** supports both wide band and narrow band precoding, we set the \"Precoding RB Group (PRG)\" size to 0 which means the same precoding is used for all subcarriers (Wideband Precoding)."
   ]
  },
  {
   "cell_type": "code",
   "execution_count": 3,
   "id": "8477566a",
   "metadata": {},
   "outputs": [
    {
     "name": "stdout",
     "output_type": "stream",
     "text": [
      "\n",
      "PDSCH Properties:\n",
      "  mappingType: A\n",
      "  nID: 1\n",
      "  rnti: 1\n",
      "  numLayers: 2\n",
      "  numCodewords: 1\n",
      "  modulation: 16QAM\n",
      "  portSet: [0, 1]\n",
      "  symSet:   0   1   2   3   4   5   6   7   8   9  10  11  12  13\n",
      "  prbSet:   0   1   2   3   4   5   6   7   8   9  10  11  12  13  14  15  16  17  18  19\n",
      "           20  21  22  23  24  25  26  27  28  29  30  31  32  33  34  35  36  37  38  39\n",
      "           40  41  42  43  44  45  46  47  48  49  50\n",
      "  interleavingBundleSize: 0\n",
      "  PRG Size: Wideband\n",
      "  Bandwidth Part:\n",
      "    Resource Blocks: 51 RBs starting at 0 (612 subcarriers)\n",
      "    Subcarrier Spacing: 30 KHz\n",
      "    CP Type: normal\n",
      "    bandwidth: 18360000 Hz\n",
      "    symbolsPerSlot: 14\n",
      "    slotsPerSubFrame: 2\n",
      "    nFFT: 1024\n",
      "  DMRS:\n",
      "    configType: 2\n",
      "    nIDs: []\n",
      "    scID: 0\n",
      "    sameSeq: 1\n",
      "    symbols: Single\n",
      "    typeA1stPos: 2\n",
      "    additionalPos: 2\n",
      "    cdmGroups: [0, 0]\n",
      "    deltaShifts: [0, 0]\n",
      "    allCdmGroups: [0]\n",
      "    symSet: [ 2  7 11]\n",
      "    REs (before shift): [0, 1, 6, 7]\n",
      "    epreRatioDb: 0 (db)\n",
      "\n"
     ]
    }
   ],
   "source": [
    "pdsch = PDSCH(bwp, interleavingBundleSize=0, numLayers=2, nID=carrier.cellId)\n",
    "pdsch.setDMRS(prgSize=0, configType=2, additionalPos=2)\n",
    "pdsch.print()"
   ]
  },
  {
   "cell_type": "markdown",
   "id": "7c436ef9",
   "metadata": {},
   "source": [
    "### Channel Coding Configuration\n",
    "Now it is time to define the parameters of LDPC channel coding. **NeoRadium** provides the ``LdpcEncoder`` and ``LdpcDecoder`` classes. These classes can be used to perform data segmentation/de-segmentation, rate-matching/rate-recovery, and encoding/decoding. Here we first set our desired code rate, then create an ``LdpcEncoder`` object that will be used for LDPC encoding."
   ]
  },
  {
   "cell_type": "code",
   "execution_count": 4,
   "id": "8f27e815",
   "metadata": {},
   "outputs": [],
   "source": [
    "codeRate = 490/1024\n",
    "ldpcEncoder = LdpcEncoder(baseGraphNo=1, modulation=pdsch.modems[0].modulation, \n",
    "                          txLayers=pdsch.numLayers, targetRate=codeRate)\n"
   ]
  },
  {
   "cell_type": "markdown",
   "id": "3ea43f7f",
   "metadata": {},
   "source": [
    "### Resource Grid Creation and Mapping\n",
    "Now that we have created the PDSCH and LDPC encoder objects, we can use them to perform channel coding and resource mapping. In the following cell, we first create a resource grid object using the ``getGrid`` method of the ``PDSCH`` object. This will create a resource grid, creates the DMRS reference signals and puts them in the specified locations in the resource grid.\n",
    "\n",
    "The method ``getTxBlockSize`` is used to calculate the transport block size(s) based on the resources available in the grid for data transmission at the specified code rate. This function calculates the the transport block size based on 3GPP TS 38.214.\n",
    "\n",
    "Once we have the transport block size, we create random bits for transmission using the utility function ``bits`` of **NeoRadium**'s ``random`` module.\n",
    "\n",
    "The function ``getBitSizes`` returns total bit capacity of the resource grid for each code word. This is the total number of encoded data bits that can be transmitted using the resource grid. It is used to perform rate-matching by the ``LdpcEncoder`` class.\n",
    "\n",
    "The function ``getRateMatchedCodeWords`` performs segmentation, rate-matching, and LDPC encoding in a single call. The output contains the encoded bits for each codeword.\n",
    "\n",
    "Once we have the rated-matched encoded bits, we can map them to the available resources in the resource grid. This is exactly what the ``populateGrid`` method of the ``PDSCH`` class does. This function first converts bits to complex symbols using the QAM modulation and then assigns the symbols to the available resource elements in the resource grid at different time, frequency, and layer locations.\n",
    "\n",
    "The ``drawMap`` method of the ``Grid`` class is used here to show the allocation of data and DMRS in the resource grid."
   ]
  },
  {
   "cell_type": "code",
   "execution_count": 5,
   "id": "a1312e0b",
   "metadata": {},
   "outputs": [
    {
     "name": "stdout",
     "output_type": "stream",
     "text": [
      "TX Block Size: 30216\n",
      "Number of bits: 63648\n",
      "Size of the rate-matched coded block: 63648\n",
      "Grid Allocation Stats:\n",
      "  GridSize: 17136\n",
      "  DMRS: 1224\n",
      "  PDSCH: 15912\n"
     ]
    },
    {
     "data": {
      "image/png": "[encoded data removed]",
      "text/plain": [
       "<Figure size 600x600 with 1 Axes>"
      ]
     },
     "metadata": {},
     "output_type": "display_data"
    }
   ],
   "source": [
    "random.setSeed(123)                          # Making the results reproducible.\n",
    "grid = pdsch.getGrid()                       # Create a resource grid already populated with DMRS \n",
    "txBlockSize = pdsch.getTxBlockSize(codeRate) # Calculate the Transport Block Size based on 3GPP TS 38.214 \n",
    "txBlock = random.bits(txBlockSize[0])        # Create random binary data\n",
    "        \n",
    "numBits = pdsch.getBitSizes(grid)            # Actual number of bits available in the resource grid\n",
    "\n",
    "# Now perform the segmentation, rate-matching, and encoding in one call:\n",
    "rateMatchedCodeWords = ldpcEncoder.getRateMatchedCodeWords(txBlock, numBits[0])\n",
    "\n",
    "# Now populate the resource grid with coded data. This includes QAM modulation and resource mapping.\n",
    "pdsch.populateGrid(grid, rateMatchedCodeWords)\n",
    "\n",
    "# Store the indexes of the PDSCH data in pdschIndexes to be used later.\n",
    "pdschIndexes = pdsch.getReIndexes(grid, \"PDSCH\")   \n",
    "\n",
    "print(\"TX Block Size:\", txBlockSize[0])\n",
    "print(\"Number of bits:\", numBits[0])\n",
    "print(\"Size of the rate-matched coded block:\", rateMatchedCodeWords.shape[0])\n",
    "\n",
    "# Get statistics about the grid resource allocation\n",
    "gridStats = grid.getStats()\n",
    "print(\"Grid Allocation Stats:\")\n",
    "for key, value in gridStats.items():\n",
    "    print(\"  %s: %d\"%(key, value))\n",
    "    \n",
    "# Draw the map of grid showing the data and DMRS in the first RB of the BWP.\n",
    "grid.drawMap()"
   ]
  },
  {
   "cell_type": "markdown",
   "id": "f16642aa",
   "metadata": {},
   "source": [
    "### Channel Simulation and Precoding\n",
    "The next step in the pipeline is the precoding process. In practice the precoding information is extracted at the UE side (The receiver in this case) from the estimated channel. Since we are demonstrating only a downlink communication here, we assume that the precoding matrix is somehow available. \n",
    "\n",
    "To calculate the precoding matrix we first need to define the channel model. Here we use a CDL channel model as specified in 3GPP TR 38.901. The ``CdlChannel`` class is used to create a channel model object. Here we are using a CDL-C model which simulates NLOS communication. We use delay spread of 300 ns and a doppler shift of 5 Hz. We also use a small MIMO configuration with 8 transmitter antenna and 2 receiver antenna. The ``print`` function of the ``CdlChannel`` class can be used to show all properties of the CDL channel model.\n",
    "\n",
    "To calculate the precoding matrix, we first get the channel matrix from the ``CdlChannel`` object. The channel matrix is a 4-D complex tensor of size ``l``x``k``x ``Nr``x``Nt``. Where ``l``, ``k``, ``Nr``, and ``Nt`` are the number of time symbols (14), the number of subcarriers (51x12=612), the number of receiver antenna (2), and the number of transmitter antenna (8) respectively. \n",
    "\n",
    "Once we have the channel matrix, the ``getPrecodingMatrix`` method of the ``PDSCH`` class is called to calculate and return the precoding matrix.\n",
    "\n",
    "To precode the resource grid, we simply call the ``precode`` method of the ``Grid`` class passing in the precoding matrix."
   ]
  },
  {
   "cell_type": "code",
   "execution_count": 6,
   "id": "3585a483",
   "metadata": {},
   "outputs": [
    {
     "name": "stdout",
     "output_type": "stream",
     "text": [
      "Shape of Channel Matrix:         (14, 612, 2, 8)\n",
      "Shape of Resource Grid:          (2, 14, 612)\n",
      "Shape of Precoded Resource Grid: (8, 14, 612)\n"
     ]
    }
   ],
   "source": [
    "# Creating a CdlChannel object:\n",
    "f0 = 4e9  # Carrier Frequency\n",
    "channel = CdlChannel('C', delaySpread=300, carrierFreq=f0, dopplerShift=5,\n",
    "                     txAntenna = AntennaPanel([2,4], polarization=\"|\"),  # 8 TX antenna\n",
    "                     rxAntenna = AntennaPanel([1,2], polarization=\"|\"))  # 2 RX antenna\n",
    "# channel.print()                                       # Unremark to pring all channel information\n",
    "\n",
    "# Getting the Precoding Matrix, and precoding the resource grid\n",
    "channelMatrix = channel.getChannelMatrix(bwp)           # Get the channel matrix\n",
    "precoder = pdsch.getPrecodingMatrix(channelMatrix)      # Get the precoder matrix from the PDSCH object\n",
    "precodedGrid = grid.precode(precoder)                   # Perform the precoding\n",
    "\n",
    "print(\"Shape of Channel Matrix:        \", channelMatrix.shape)\n",
    "print(\"Shape of Resource Grid:         \", grid.shape)\n",
    "print(\"Shape of Precoded Resource Grid:\", precodedGrid.shape)\n"
   ]
  },
  {
   "cell_type": "markdown",
   "id": "84be1cdf",
   "metadata": {},
   "source": [
    "### OFDM Modulation\n",
    "To transmit the precoded resource grid it first needs to be transformed to time-domain. The method ``ofdmModulate`` of the ``Grid`` class converts the precoded grid into a set of time-domain waveforms for each transmit antenna. The output of the OFDM modulation is a ``Waveform`` class that contains the waveforms for each transmit antenna."
   ]
  },
  {
   "cell_type": "code",
   "execution_count": 7,
   "id": "e318ba1c",
   "metadata": {},
   "outputs": [
    {
     "name": "stdout",
     "output_type": "stream",
     "text": [
      "Shape of txWaveform: (8, 15360)\n"
     ]
    }
   ],
   "source": [
    "txWaveform = precodedGrid.ofdmModulate()\n",
    "# txWaveform contains the waveforms in time domain for each transmitter antenna\n",
    "print(\"Shape of txWaveform:\", txWaveform.shape)"
   ]
  },
  {
   "cell_type": "markdown",
   "id": "3ba7b40d",
   "metadata": {},
   "source": [
    "### Applying the channel model to the transmitted waveform\n",
    "Now we need to pass the transmitted waveform through our CDL channel model. Since channel models usually delay the signals, to make sure we get the whole waveform on the output end of the channel, we need to append some zeros to the end of the waveform. The number of these zeros depend on the maximum channel delay that can be obtained using the ``getMaxDelay`` method of the ``CdlChannel`` class. The ``pad`` method of ``Waveform`` class append zeros to the end of waveform.\n",
    "\n",
    "Now the channel model can be applied to the transmitted waveform to obtain the received waveform. This is exactly what the ``applyToSignal`` method of the ``CdlChannel`` class does. The output is another ``Waveform`` object containing the received waveform for each receiver antenna."
   ]
  },
  {
   "cell_type": "code",
   "execution_count": 8,
   "id": "b2d70906",
   "metadata": {},
   "outputs": [
    {
     "name": "stdout",
     "output_type": "stream",
     "text": [
      "Max Channel Delay:   87\n",
      "Shape of rxWaveform: (2, 15447)\n"
     ]
    }
   ],
   "source": [
    "# Need to append zeros to the end of signal based on the maximum channel delay\n",
    "maxDelay = channel.getMaxDelay()\n",
    "print(\"Max Channel Delay:  \", maxDelay)\n",
    "txWaveform = txWaveform.pad(maxDelay)\n",
    "\n",
    "# Applying channel to the transmitted signal\n",
    "rxWaveform = channel.applyToSignal(txWaveform)\n",
    "print(\"Shape of rxWaveform:\", rxWaveform.shape)"
   ]
  },
  {
   "cell_type": "markdown",
   "id": "18d68734",
   "metadata": {},
   "source": [
    "### Adding Noise\n",
    "We can use the ``addNoise`` method of the ``Waveform`` class to add AWGN to the received signal. Since we are adding the noise in the time-domain, the FFT size is also used in the calculation noise variance. So, we are passing both SNR value and the FFT size to the ``addNoise`` method."
   ]
  },
  {
   "cell_type": "code",
   "execution_count": 9,
   "id": "d1a73e4d",
   "metadata": {},
   "outputs": [],
   "source": [
    "noisyRxWaveform = rxWaveform.addNoise(snrDb=30, nFFT=bwp.nFFT)\n"
   ]
  },
  {
   "cell_type": "markdown",
   "id": "e17e0bfc",
   "metadata": {},
   "source": [
    "### Synchronization and OFDM Demodulation\n",
    "Because of multiple different path delays involved in the channel model, we need to find the best starting point in the received waveform. This is usually done by finding the position of maximum correlation between the received signal and reference signals. The function ``getTimingOffset`` of the ``CdlChannel`` provides this \"timing offset\" which is the number of samples we need to skip from the beginning of the received waveform.\n",
    "\n",
    "After synchronization, the waveform can be used for OFDM demodulation to the received resource grid. The class method ``ofdmDemodulate`` creates a ``Grid`` class instance containing the received resource grid."
   ]
  },
  {
   "cell_type": "code",
   "execution_count": 10,
   "id": "422aa996",
   "metadata": {},
   "outputs": [
    {
     "name": "stdout",
     "output_type": "stream",
     "text": [
      "Timing Offset:                   13\n",
      "Shape of received resource grid: (2, 14, 612)\n"
     ]
    }
   ],
   "source": [
    "# Synchronization: Get the timing offset\n",
    "offset = channel.getTimingOffset()\n",
    "syncedWaveform = noisyRxWaveform.sync(offset)\n",
    "print(\"Timing Offset:                  \", offset)\n",
    "\n",
    "# OFDM Demodulation\n",
    "rxGrid = syncedWaveform.ofdmDemodulate(bwp)\n",
    "print(\"Shape of received resource grid:\", rxGrid.shape)"
   ]
  },
  {
   "cell_type": "markdown",
   "id": "cd234418",
   "metadata": {},
   "source": [
    "### Applying channel in Frequency Domain\n",
    "You can also use a shortcut method of applying the channel model to the transmitted grid directly without going to time domain. Although this is not exactly what happens in practice, it is sometimes useful (or convenient) to avid the time domain.\n",
    "\n",
    "The method ``applyChannel`` of the ``Grid`` class can be used to apply a channel matrix to a resource grid. For example:\n",
    "\n",
    "```\n",
    "    # Applying the channel matrix to the precoded grid\n",
    "    rxGrid = precodedGrid.applyChannel(channelMatrix)\n",
    "```\n",
    "\n",
    "### Channel Estimation\n",
    "The input to the channel estimation process is the received resource grid and the known reference signals (in this case DMRS) and the output is the estimated channel. Note that in this case the estimated channel includes the precoding process. That is because the DMRS reference signals were added to the resource grid **before** precoding.\n",
    "\n",
    "#### Perfect Channel Estimation\n",
    "For perfect channel estimation, we need to apply precoding to the channel matrix. This can be done by a simple matrix multiplication as shown in the following cell.\n",
    "\n",
    "#### Practical Channel Estimation\n",
    "The method ``estimateChannelLS`` of the ``Grid`` class can be used to estimate the channel matrix. This method performs CDM averaging, Least-Squared channel estimation at pilot locations, and applying interpolation to get the whole channel matrix. \n"
   ]
  },
  {
   "cell_type": "code",
   "execution_count": 11,
   "id": "220df01a",
   "metadata": {},
   "outputs": [
    {
     "name": "stdout",
     "output_type": "stream",
     "text": [
      "Shape of estimated channel: (14, 612, 2, 2)\n"
     ]
    }
   ],
   "source": [
    "# Perfect channel estimation (Applying the precoding to the channel matrix)\n",
    "# estChannelMatrix = channelMatrix @ precoder[None,...]\n",
    "\n",
    "# Practical channel estimation\n",
    "estChannelMatrix, _ = rxGrid.estimateChannelLS(pdsch.dmrs)    # Un-remark to use practical channel estimation\n",
    "print(\"Shape of estimated channel:\", estChannelMatrix.shape)\n"
   ]
  },
  {
   "cell_type": "markdown",
   "id": "d7634744",
   "metadata": {},
   "source": [
    "### Equalization\n",
    "Now that we have an estimation of channel matrix, we can use it for equalization. The method ``equalize`` of the ``Grid`` class uses the Minimum mean-squared error (MMSE) equalization algorithm to cancel the effect of the channel in the received resource grid.\n",
    "\n",
    "It outputs a ``Grid`` object containing the equalized received resource grid and the LLR scaling values which is used later to scale the log-likelihood ratios from the demodulation process.\n"
   ]
  },
  {
   "cell_type": "code",
   "execution_count": 12,
   "id": "6f4600d1",
   "metadata": {},
   "outputs": [
    {
     "name": "stdout",
     "output_type": "stream",
     "text": [
      "Shape of equalized grid: (2, 14, 612)\n",
      "Shape of LLR Scales:     (2, 14, 612)\n"
     ]
    }
   ],
   "source": [
    "eqGrid, llrScales = rxGrid.equalize(estChannelMatrix)\n",
    "print(\"Shape of equalized grid:\", eqGrid.shape)\n",
    "print(\"Shape of LLR Scales:    \", llrScales.shape)"
   ]
  },
  {
   "cell_type": "markdown",
   "id": "88a80e54",
   "metadata": {},
   "source": [
    "### Demodulation, De-mapping, Descrambling\n",
    "The method ``getLLRsFromGrid`` of the ``PDSCH`` object performs demodulation, de-mapping, and descrambling of the received grid in one call. The output of this process is a set of log-likelihood ratios (LLRs) for the each received codeword extracted from the received resource grid. Note that in this example there is only one codeword."
   ]
  },
  {
   "cell_type": "code",
   "execution_count": 13,
   "id": "0b7e7530",
   "metadata": {},
   "outputs": [
    {
     "name": "stdout",
     "output_type": "stream",
     "text": [
      "Length of LLRs for the first code-word: 63648\n"
     ]
    }
   ],
   "source": [
    "llrs = pdsch.getLLRsFromGrid(eqGrid, pdschIndexes, llrScales)\n",
    "print(\"Length of LLRs for the first code-word:\", llrs[0].shape[0])"
   ]
  },
  {
   "cell_type": "markdown",
   "id": "30b4299a",
   "metadata": {},
   "source": [
    "### Rate Recovery and LDPC decoding\n",
    "We are close to the end of pipeline. We just need to decode the LLRs to the actual transport blocks. To do this, we need an LDPC decoder object. The method ``getDecoder`` of the ``LdpcEncoder`` class conveniently creates a  decoder object matching the parameters of the encoder.\n",
    "\n",
    "The function ``recoverRate`` of the LDPC decoder object can then be used to recover the rate of LDPC codewords based on the transport block size. This is based on the procedure specified in 3GPP TS 38.212.\n",
    "\n",
    "The rate-recovered coded blocks are then ready to be LDPC-decoded using the ``decode`` method of the ``LdpcDecoder`` class (Each coded block is decoded separately). The output is a set of the decoded blocks.\n"
   ]
  },
  {
   "cell_type": "code",
   "execution_count": 14,
   "id": "392219a7",
   "metadata": {
    "scrolled": true
   },
   "outputs": [
    {
     "name": "stdout",
     "output_type": "stream",
     "text": [
      "Shape of rxCodedBlocks:  (4, 23232)\n",
      "Shape of Decoded Blocks: (4, 7744)\n"
     ]
    }
   ],
   "source": [
    "# Create an LDPC Decoder object using the same parameters used to create the encoder. \n",
    "ldpcDecoder = ldpcEncoder.getDecoder()\n",
    "\n",
    "# Do rate recovery (Note: We have only one codeword in this example)\n",
    "rxCodedBlocks = ldpcDecoder.recoverRate(llrs[0], txBlockSize[0])\n",
    "print(\"Shape of rxCodedBlocks: \", rxCodedBlocks.shape)\n",
    "\n",
    "# LDPC-Decoding\n",
    "decodedBlocks = ldpcDecoder.decode(rxCodedBlocks, numIter=20)\n",
    "print(\"Shape of Decoded Blocks:\", decodedBlocks.shape)\n",
    "\n"
   ]
  },
  {
   "cell_type": "markdown",
   "id": "56d5bece",
   "metadata": {},
   "source": [
    "### CRC checking and De-segmentation\n",
    "The CRC of each decoded block must be checked and then the decoded blocks need to be merged (de-segmented) to provide the transport blocks. The method ``checkCrcAndMerge`` of the ``LdpcDecoder`` class does exactly this. The output of this method is a decoded transport block wich also contains a transport block CRC appended at the end.\n",
    "\n",
    "The ``checkCrc`` method of the ``LdpcDecoder`` class can be used to check the transport block CRC."
   ]
  },
  {
   "cell_type": "code",
   "execution_count": 15,
   "id": "6d11d60f",
   "metadata": {},
   "outputs": [
    {
     "name": "stdout",
     "output_type": "stream",
     "text": [
      "Shape of decoded transport block: (30240,)\n",
      "CRC Match for each decoded block: [ True  True  True  True]\n",
      "Transport block CRC Match:        True\n"
     ]
    }
   ],
   "source": [
    "decodedTxBlockWithCRC, crcMatch = ldpcDecoder.checkCrcAndMerge(decodedBlocks)\n",
    "print(\"Shape of decoded transport block:\", decodedTxBlockWithCRC.shape)\n",
    "print(\"CRC Match for each decoded block:\", crcMatch)\n",
    "\n",
    "txBlockCrcMatch = ldpcDecoder.checkCrc(decodedTxBlockWithCRC,'24A')\n",
    "print(\"Transport block CRC Match:       \", txBlockCrcMatch)\n"
   ]
  },
  {
   "cell_type": "markdown",
   "id": "5aae1774",
   "metadata": {},
   "source": [
    "### Comparing the decoded transport block with the original\n",
    "We can get the decoded transport block by removing the 24-bit CRC at the end. Then we can compare the results with the original transport block that was created randomly at the beginning of this pipeline."
   ]
  },
  {
   "cell_type": "code",
   "execution_count": 16,
   "id": "e4332c86",
   "metadata": {},
   "outputs": [
    {
     "name": "stdout",
     "output_type": "stream",
     "text": [
      "The number of bit mismatches between the decoded transport block and original: 0\n"
     ]
    }
   ],
   "source": [
    "decodedTxBlock = decodedTxBlockWithCRC[:-24]  # remove the transport block CRC\n",
    "print(\"The number of bit mismatches between the decoded transport block and original:\",np.abs(decodedTxBlock-txBlock).sum())\n"
   ]
  },
  {
   "cell_type": "code",
   "execution_count": null,
   "id": "78d4d52a",
   "metadata": {
    "scrolled": true
   },
   "outputs": [],
   "source": []
  },
  {
   "cell_type": "code",
   "execution_count": null,
   "id": "a783fd19",
   "metadata": {},
   "outputs": [],
   "source": []
  }
 ],
 "metadata": {
  "kernelspec": {
   "display_name": "Python 3 (ipykernel)",
   "language": "python",
   "name": "python3"
  },
  "language_info": {
   "codemirror_mode": {
    "name": "ipython",
    "version": 3
   },
   "file_extension": ".py",
   "mimetype": "text/x-python",
   "name": "python",
   "nbconvert_exporter": "python",
   "pygments_lexer": "ipython3",
   "version": "3.9.6"
  }
 },
 "nbformat": 4,
 "nbformat_minor": 5
}
