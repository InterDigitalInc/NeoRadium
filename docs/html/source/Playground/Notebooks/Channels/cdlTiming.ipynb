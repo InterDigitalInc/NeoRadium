{
 "cells": [
  {
   "cell_type": "markdown",
   "id": "eddda13d",
   "metadata": {},
   "source": [
    "# Channel timing\n",
    "This notebooks shows the timing characteristics of a CDL channel model as it is applied to input signals for a duration of 100 slots."
   ]
  },
  {
   "cell_type": "code",
   "execution_count": 1,
   "id": "92baf17d",
   "metadata": {},
   "outputs": [],
   "source": [
    "import numpy as np\n",
    "import scipy.io\n",
    "import time\n",
    "import matplotlib.pyplot as plt\n",
    "\n",
    "from neoradium import Carrier, Modem, CdlChannel, AntennaPanel, Grid, Waveform, random\n",
    "from neoradium.utils import getNmse, getMse\n"
   ]
  },
  {
   "cell_type": "code",
   "execution_count": 2,
   "id": "6910172c",
   "metadata": {},
   "outputs": [
    {
     "name": "stdout",
     "output_type": "stream",
     "text": [
      "\n",
      "Bandwidth Part Properties:\n",
      "  Resource Blocks:    25 RBs starting at 0 (300 subcarriers)\n",
      "  Subcarrier Spacing: 30 KHz\n",
      "  CP Type:            normal\n",
      "  bandwidth:          9 MHz\n",
      "  symbolsPerSlot:     14\n",
      "  slotsPerSubFrame:   2\n",
      "  nFFT:               1024\n",
      "  frameNo:            0\n",
      "  slotNo:             0\n",
      "\n",
      "Shape of transmitted signal in time domain: (8, 15360)\n"
     ]
    }
   ],
   "source": [
    "# Create a random grid and the corresponding TX waveform\n",
    "carrierFreq=4e9 # 4 GHz\n",
    "\n",
    "carrier = Carrier(startRb=0, numRbs=25, spacing=30) # Also try other subcarrier spacing values\n",
    "bwp = carrier.curBwp\n",
    "txGrid = bwp.createGrid(numPlanes=8)\n",
    "\n",
    "stats = txGrid.getStats()\n",
    "modem = Modem(\"16QAM\")\n",
    "numRandomBits = stats['UNASSIGNED']*modem.qm\n",
    "\n",
    "bits = random.bits(numRandomBits)\n",
    "symbols = modem.modulate(bits)\n",
    "\n",
    "indexes = txGrid.getReIndexes(\"UNASSIGNED\")\n",
    "txGrid[indexes] = symbols\n",
    "\n",
    "txWaveform = txGrid.ofdmModulate(carrierFreq)\n",
    "print(bwp)\n",
    "print(\"Shape of transmitted signal in time domain:\",txWaveform.shape)"
   ]
  },
  {
   "cell_type": "code",
   "execution_count": 3,
   "id": "749c0058",
   "metadata": {},
   "outputs": [
    {
     "name": "stdout",
     "output_type": "stream",
     "text": [
      "NMSE: 4.011172718876436e-32\n",
      "MAE: 8.005932084973443e-16\n"
     ]
    }
   ],
   "source": [
    "# No Channel and no noise performance: ofdmModulate -> ofdmDemodulate\n",
    "rxGridTD = txWaveform.ofdmDemodulate(bwp, f0=carrierFreq)\n",
    "print(f\"NMSE: {getNmse(txGrid.grid,rxGridTD.grid)}\")\n",
    "print(f\"MAE: {np.abs(txGrid.grid-rxGridTD.grid).max()}\")"
   ]
  },
  {
   "cell_type": "code",
   "execution_count": 4,
   "id": "48fbc42a",
   "metadata": {},
   "outputs": [
    {
     "data": {
      "text/plain": [
       "\n",
       "CDL-D Channel Properties:\n",
       "  carrierFreq:          4 GHz\n",
       "  normalizeGains:       True\n",
       "  normalizeOutput:      True\n",
       "  txDir:                Downlink\n",
       "  filterLen:            16 samples\n",
       "  delayQuantSize:       64\n",
       "  stopBandAtten:        80 db\n",
       "  dopplerShift:         15 Hz\n",
       "  coherenceTime:        0.028209479177387815 Sec.\n",
       "  delaySpread:          300 ns\n",
       "  ueDirAZ:              0.0°, 90.0°\n",
       "  Cross Pol. Power:     11 db\n",
       "  angleSpreads:         5° 8° 3° 3°\n",
       "  TX Antenna:\n",
       "    Total Elements:     8\n",
       "    spacing:            0.5𝜆, 0.5𝜆\n",
       "    shape:              2 rows x 4 columns\n",
       "    polarization:       |\n",
       "    Orientation (𝛼,𝛃,𝛄): 0° 0° 0°\n",
       "  RX Antenna:\n",
       "    Total Elements:     2\n",
       "    spacing:            0.5𝜆, 0.5𝜆\n",
       "    shape:              1 rows x 2 columns\n",
       "    polarization:       |\n",
       "    Orientation (𝛼,𝛃,𝛄): 0° 0° 0°\n",
       "  hasLOS:               True\n",
       "  LOS Path:\n",
       "    Delay (ns):         0.00000\n",
       "    Power (db):         -0.20000\n",
       "    AOD (Deg):          0\n",
       "    AOA (Deg):          -3\n",
       "    ZOD (Deg):          1\n",
       "    ZOA (Deg):          1\n",
       "  NLOS Paths (13):\n",
       "    Delays (ns):        0.000 10.50 183.6 408.9 421.5 541.2 778.8 532.5 1212. 2381. 2827. 2912.\n",
       "                        3757.\n",
       "    Powers (db):        -13.5 -18.8 -21.0 -22.8 -17.9 -20.1 -21.9 -22.9 -27.8 -23.6 -24.8 -30.0\n",
       "                        -27.7\n",
       "    AODs (Deg):         0    89   89   89   13   13   13   35   -64  -33  53   -132\n",
       "                        77  \n",
       "    AOAs (Deg):         -180 89   89   89   163  163  163  -137 74   128  -120 -9  \n",
       "                        -84 \n",
       "    ZODs (Deg):         98   86   86   86   98   98   98   98   88   91   104  80  \n",
       "                        86  \n",
       "    ZOAs (Deg):         82   87   87   87   79   79   79   78   74   78   87   71  \n",
       "                        73  "
      ]
     },
     "execution_count": 4,
     "metadata": {},
     "output_type": "execute_result"
    }
   ],
   "source": [
    "# Create a CDL-D channel\n",
    "channel = CdlChannel(bwp, 'D', delaySpread=300, carrierFreq=4e9, dopplerShift=15,\n",
    "                     txAntenna = AntennaPanel([2,4], polarization=\"|\"),  # 8 TX antenna\n",
    "                     rxAntenna = AntennaPanel([1,2], polarization=\"|\"),  # 2 RX antenna\n",
    "                     seed = 1234)\n",
    "channel"
   ]
  },
  {
   "cell_type": "code",
   "execution_count": 5,
   "id": "f1964448",
   "metadata": {},
   "outputs": [
    {
     "name": "stdout",
     "output_type": "stream",
     "text": [
      "NMSE: 7.131743705718165e-05\n"
     ]
    }
   ],
   "source": [
    "# Apply the channel in time domain:\n",
    "maxDelay = channel.getMaxDelay()\n",
    "paddedTxWaveform = txWaveform.pad(maxDelay)              # Pad the waveform with zeros\n",
    "rxWaveform = channel.applyToSignal(paddedTxWaveform)     # Apply the channel to the waveform\n",
    "\n",
    "syncedWaveform = rxWaveform.sync(channel.chanOffset)                 # Synchronization\n",
    "rxGridTd = syncedWaveform.ofdmDemodulate(bwp, f0=carrierFreq)\n",
    "\n",
    "# Apply the channel in frequency domain and compare\n",
    "chanMat = channel.getChannelMatrix()\n",
    "rxGridFd = txGrid.applyChannel(chanMat)\n",
    "print(f\"NMSE: {getNmse(rxGridFd.grid,rxGridTd.grid)}\")\n"
   ]
  },
  {
   "cell_type": "code",
   "execution_count": 6,
   "id": "9b415742",
   "metadata": {},
   "outputs": [],
   "source": [
    "# Apply the channel to 100 slots of input signal\n",
    "chanMats = []\n",
    "for s in range(100):\n",
    "    # Go to next slot and do it again:\n",
    "    channel.goNext()\n",
    "\n",
    "    txGrid = bwp.createGrid(numPlanes=8)\n",
    "\n",
    "    stats = txGrid.getStats()\n",
    "    numRandomBits = stats['UNASSIGNED']*modem.qm\n",
    "\n",
    "    bits = random.bits(numRandomBits)\n",
    "    symbols = modem.modulate(bits)\n",
    "\n",
    "    indexes = txGrid.getReIndexes(\"UNASSIGNED\")\n",
    "    txGrid[indexes] = symbols\n",
    "\n",
    "    txWaveform = txGrid.ofdmModulate(carrierFreq)\n",
    "\n",
    "    # Apply the channel in time domain:\n",
    "    maxDelay = channel.getMaxDelay()\n",
    "    paddedTxWaveform = txWaveform.pad(maxDelay)              # Pad the waveform with zeros\n",
    "    rxWaveform = channel.applyToSignal(paddedTxWaveform)     # Apply the channel to the waveform\n",
    "\n",
    "    syncedWaveform = rxWaveform.sync(channel.chanOffset)                 # Synchronization\n",
    "    rxGridTd = syncedWaveform.ofdmDemodulate(bwp, f0=carrierFreq)\n",
    "\n",
    "    # Apply the channel in frequency domain and compare\n",
    "    chanMat = channel.getChannelMatrix()\n",
    "    rxGridFd = txGrid.applyChannel(chanMat)\n",
    "    assert getNmse(rxGridFd.grid,rxGridTd.grid)<1e-3\n",
    "    chanMats += [chanMat]\n"
   ]
  },
  {
   "cell_type": "code",
   "execution_count": 7,
   "id": "cbab431a",
   "metadata": {},
   "outputs": [
    {
     "data": {
      "image/png": "[encoded data removed]",
      "text/plain": [
       "<Figure size 640x480 with 1 Axes>"
      ]
     },
     "metadata": {},
     "output_type": "display_data"
    }
   ],
   "source": [
    "gs = np.concatenate([chanMat[:,0,0,0] for chanMat in chanMats])\n",
    "plt.plot(np.abs(gs))\n",
    "plt.title(\"The channel gains for the first pair of RX/TX antenna \\n\"+\n",
    "          \"and first subcarrier during 100 slots\")\n",
    "plt.grid()"
   ]
  },
  {
   "cell_type": "code",
   "execution_count": null,
   "id": "314800f4",
   "metadata": {},
   "outputs": [],
   "source": []
  }
 ],
 "metadata": {
  "kernelspec": {
   "display_name": "Python 3 (ipykernel)",
   "language": "python",
   "name": "python3"
  },
  "language_info": {
   "codemirror_mode": {
    "name": "ipython",
    "version": 3
   },
   "file_extension": ".py",
   "mimetype": "text/x-python",
   "name": "python",
   "nbconvert_exporter": "python",
   "pygments_lexer": "ipython3",
   "version": "3.9.6"
  }
 },
 "nbformat": 4,
 "nbformat_minor": 5
}
