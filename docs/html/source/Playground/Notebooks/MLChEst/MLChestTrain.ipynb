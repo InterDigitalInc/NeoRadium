{
 "cells": [
  {
   "cell_type": "markdown",
   "id": "8211a3bc",
   "metadata": {},
   "source": [
    "# Training a ResNet model for Channel Estimation\n",
    "Now that we have a channel estimation dataset, we can train a model to receive the channel estimates at the pilot locations and predict the channel estimates for the whole channel matrix.\n",
    "\n",
    "We use [Fireball](https://github.com/InterDigitalInc/Fireball) deep-learning package to train our models. The following diagram shows the neural network structure used for the channel estimation model.\n",
    "\n",
    "![NN Structure](NN.png)\n",
    "\n",
    "So let's get started by importing some Fireball modules."
   ]
  },
  {
   "cell_type": "code",
   "execution_count": 1,
   "id": "2415601e",
   "metadata": {},
   "outputs": [],
   "source": [
    "import numpy as np\n",
    "import scipy.io\n",
    "import time\n",
    "\n",
    "from fireball import Model, Block\n",
    "from fireball.datasets.base import BaseDSet"
   ]
  },
  {
   "cell_type": "markdown",
   "id": "e22ab6c6",
   "metadata": {},
   "source": [
    "## Loading dataset\n",
    "We first load our dataset files generated in the [previous step](MLChestDataGen.ipynb). Then we create three [dataset objects](https://interdigitalinc.github.io/Fireball/html/source/datasets.html#fireball.datasets.base.BaseDSet) for training, validation, and test. "
   ]
  },
  {
   "cell_type": "code",
   "execution_count": 2,
   "id": "d14d7c58",
   "metadata": {},
   "outputs": [
    {
     "name": "stdout",
     "output_type": "stream",
     "text": [
      "BaseDSet Dataset Info:\n",
      "    Number of Training Samples ..................... 16000\n",
      "    Number of Test Samples ......................... 2400\n",
      "    Number of Validation Samples ................... 2400\n",
      "    Sample Shape ................................... (14, 612, 2)\n"
     ]
    }
   ],
   "source": [
    "# Read the data\n",
    "trainSample, trainlabels = np.load(\"ChestTrain.npy\")\n",
    "validSample, validlabels = np.load(\"ChestValid.npy\")\n",
    "testSample, testlabels = np.load(\"ChestTest.npy\")\n",
    "\n",
    "trainDs = BaseDSet('train', None, trainSample, trainlabels, 32)\n",
    "validDs = BaseDSet('valid', None, validSample, validlabels, 32)\n",
    "testDs = BaseDSet('test', None, testSample, testlabels, 32)\n",
    "BaseDSet.printDsInfo(trainDs,testDs,validDs)\n"
   ]
  },
  {
   "cell_type": "markdown",
   "id": "dcba34f6",
   "metadata": {},
   "source": [
    "## Creating the model\n",
    "Now we can create a Fireball model object that will be used for training. We first define 2 ``ResNet`` blocks ``RES1`` and ``RES2`` (The gray boxes in the above diagram). We then define all the layers in the ``layersInfo`` string."
   ]
  },
  {
   "cell_type": "code",
   "execution_count": 3,
   "id": "0e0076d4",
   "metadata": {
    "scrolled": false
   },
   "outputs": [
    {
     "name": "stdout",
     "output_type": "stream",
     "text": [
      "\n",
      "Scope            InShape       Comments                 OutShape      Activ.   Post Act.        # of Params\n",
      "---------------  ------------  -----------------------  ------------  -------  ---------------  -----------\n",
      "IN_TENSOR        14 612 2      Tensor Shape: 14x612x2   14 612 2      None                      0          \n",
      "S1_L1_RES2       14 612 2      2 Paths, 8 layers        14 612 64     ReLU                      27,328     \n",
      "S1_L2_RES1       14 612 64     2 Paths, 7 layers        14 612 64     ReLU                      7,904      \n",
      "S2_L1_CONV       14 612 64     KSP: 3 1 s               14 612 2      None     L2               1,154      \n",
      "OUT_REG          14 612 2                               14 612 2      None                      0          \n",
      "---------------------------------------------------------------------------------------------------------\n",
      "                                                                  Total Number of parameters: 36,386     \n",
      "Model Complexity: 608,672,256 flops\n"
     ]
    }
   ],
   "source": [
    "# Defining the ResNet Blocks\n",
    "blocks = [\n",
    "    Block('RES1|k_kernel_ixi,o_outSizes_i*3,s_stride_ixi_1|' +             # RES1\n",
    "          'add|' +\n",
    "          'CONV_K1_S%s_O%o0_Pv,BN:ReLU,CONV_K%k_S1_O%o1_Ps,BN:ReLU,CONV_K1_S1_O%o2,BN;ID'),\n",
    "\n",
    "    Block('RES2|k_kernel_ixi,o_outSizes_i*3,s_stride_ixi_1|' +             # RES2\n",
    "          'add|' +\n",
    "          'CONV_K1_S%s_O%o0_Pv,BN:ReLU,CONV_K%k_S1_O%o1_Ps,BN:ReLU,CONV_K1_S1_O%o2,BN;'+\n",
    "          'CONV_K1_S%s_O%o2_Pv,BN') ]\n",
    "\n",
    "# Defining the Layers of the neural network:\n",
    "layersInfo = (\"TENSOR_S14/612/2;\" +             # Input layer\n",
    "              \"RES2_K11x9_O16/16/64:ReLU,\" +    # RES2 resnet block (9x11 kernel), ReLU activation function\n",
    "              \"RES1_K7x3_O16/16/64:ReLU;\" +     # RES1 resnet block (3x7 kernel), ReLU activation function\n",
    "              \"CONV_K3_O2_Ps::L2R;\" +           # Convolutional layer (3x3 kernel), L2 Regularization\n",
    "              \"REG_S14/612/2\")                  # Output layer\n",
    "\n",
    "# Create the model for training:\n",
    "model = Model(name=\"ChanEst\", layersInfo = layersInfo, blocks = blocks, \n",
    "              trainDs=trainDs, validationDs=validDs,\n",
    "              batchSize=128, \n",
    "              numEpochs=400,\n",
    "              learningRate=(0.002,0.00001),  # Learning rate starts at 0.002 decaying exponentially to 0.00001\n",
    "              regFactor=0.0,\n",
    "              dropOutKeep=1,\n",
    "              optimizer=\"Adam\",\n",
    "              gpus=\"0\")\n",
    "\n",
    "model.printLayersInfo()                                           # Print layers\n",
    "print(\"Model Complexity:\",'{:,} flops'.format(model.getFlops()))  # Get Model Complexity\n"
   ]
  },
  {
   "cell_type": "markdown",
   "id": "af8e4803",
   "metadata": {},
   "source": [
    "## Training the model\n",
    "**Note**: The following cell can take several hours to complete. A trained model is included in the ``Models`` directory, so you can skip the following cells and proceed to the [next step](MLChestEvaluate.ipynb)."
   ]
  },
  {
   "cell_type": "code",
   "execution_count": 4,
   "id": "52cee1e3",
   "metadata": {
    "scrolled": false
   },
   "outputs": [
    {
     "name": "stdout",
     "output_type": "stream",
     "text": [
      "+--------+---------+---------------+-----------+-------------------+\n",
      "| Epoch  | Batch   | Learning Rate | Loss      | Valid/Test MSE    |\n",
      "+--------+---------+---------------+-----------+-------------------+\n",
      "| 1      | 124     | 0.00200000009 | 0.0638999 | 0.010    N/A      |\n",
      "| 2      | 249     | 0.00200000009 | 0.0086457 | 0.010    N/A      |\n",
      "| 3      | 374     | 0.00200000009 | 0.0057803 | 0.007    N/A      |\n",
      "| 4      | 499     | 0.00190000003 | 0.0047276 | 0.005    N/A      |\n",
      "| 5      | 624     | 0.00190000003 | 0.003938  | 0.007    N/A      |\n",
      "| 6      | 749     | 0.00190000003 | 0.0035286 | 0.008    N/A      |\n",
      "| 7      | 874     | 0.00190000003 | 0.0034247 | 0.007    N/A      |\n",
      "| 8      | 999     | 0.00180500001 | 0.0030548 | 0.008    N/A      |\n",
      "| 9      | 1124    | 0.00180500001 | 0.0029008 | 0.012    N/A      |\n",
      "| 10     | 1249    | 0.00180500001 | 0.0027836 | 0.004    N/A      |\n",
      "| 11     | 1374    | 0.00180500001 | 0.0028083 | 0.010    N/A      |\n",
      "| 12     | 1499    | 0.00171474996 | 0.0028544 | 0.007    N/A      |\n",
      "                           ........                                 \n",
      "| 399    | 49874   | 0.00001015221 | 0.0014256 | 0.001    N/A      |\n",
      "| 400    | 49999   | 0.00001015221 | 0.001426  | 0.001    N/A      |\n",
      "+--------+---------+---------------+-----------+-------------------+\n",
      "Total Training Time: 18354.62 Seconds\n"
     ]
    }
   ],
   "source": [
    "# Start Training:\n",
    "model.initSession()\n",
    "model.train()\n",
    "model.save(\"Models/ChEstResNet.fbm\")   # Save the trained model."
   ]
  },
  {
   "cell_type": "markdown",
   "id": "d6f42f4e",
   "metadata": {},
   "source": [
    "## Evaluating the model"
   ]
  },
  {
   "cell_type": "code",
   "execution_count": 5,
   "id": "49ea5cf0",
   "metadata": {},
   "outputs": [
    {
     "name": "stdout",
     "output_type": "stream",
     "text": [
      "  Processed 2400 Sample. (Time: 2.12 Sec.)                              \n",
      "\n",
      "NMSE: 0.326738\n",
      "MSE:  0.001526\n",
      "RMSE: 0.033944\n",
      "MAE:  0.026846\n"
     ]
    },
    {
     "data": {
      "text/plain": [
       "{'mse': 0.0015264276,\n",
       " 'rmse': 0.033943895,\n",
       " 'mae': 0.026845945,\n",
       " 'nmse': 0.32673806058297666,\n",
       " 'gMse': 0.0015264275197926392,\n",
       " 'gRmse': 0.03906952162226509,\n",
       " 'gMae': 0.026845943238406472,\n",
       " 'csvItems': ['mse', 'rmse', 'mae', 'bestMSE', 'bestEpoch', 'trainTime'],\n",
       " 'bestMSE': 0.001377510605379939,\n",
       " 'bestEpoch': 370,\n",
       " 'trainTime': 18354.61710548401}"
      ]
     },
     "execution_count": 5,
     "metadata": {},
     "output_type": "execute_result"
    }
   ],
   "source": [
    "# Evaluate the model using the test dataset\n",
    "testDs.evaluateModel(model)\n"
   ]
  },
  {
   "cell_type": "code",
   "execution_count": null,
   "id": "77ba0718",
   "metadata": {},
   "outputs": [],
   "source": []
  }
 ],
 "metadata": {
  "kernelspec": {
   "display_name": "Python 3 (ipykernel)",
   "language": "python",
   "name": "python3"
  },
  "language_info": {
   "codemirror_mode": {
    "name": "ipython",
    "version": 3
   },
   "file_extension": ".py",
   "mimetype": "text/x-python",
   "name": "python",
   "nbconvert_exporter": "python",
   "pygments_lexer": "ipython3",
   "version": "3.9.18"
  }
 },
 "nbformat": 4,
 "nbformat_minor": 5
}
